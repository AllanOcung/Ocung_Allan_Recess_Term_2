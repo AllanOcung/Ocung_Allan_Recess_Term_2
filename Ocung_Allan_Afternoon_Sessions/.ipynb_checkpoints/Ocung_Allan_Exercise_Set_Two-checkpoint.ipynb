{
 "cells": [
  {
   "cell_type": "code",
   "execution_count": null,
   "metadata": {},
   "outputs": [],
   "source": [
    "# EXERCISE (SET 2)\n",
    "\n",
    "# DATA ANALYSIS WITH PANDAS"
   ]
  },
  {
   "cell_type": "code",
   "execution_count": 3,
   "metadata": {},
   "outputs": [
    {
     "name": "stdout",
     "output_type": "stream",
     "text": [
      "0    False\n",
      "1    False\n",
      "2    False\n",
      "3    False\n",
      "4     True\n",
      "dtype: bool\n"
     ]
    }
   ],
   "source": [
    "# Series\n",
    "\n",
    "# 1.\tWrite a Pandas program to compare the elements of two Pandas series. \n",
    "#       Sample Series [4,65,436,3,9], [7,0,3,897,9]\n",
    "\n",
    "\n",
    "import pandas as pd\n",
    "\n",
    "series1 = pd.Series([4,65,436,3,9])\n",
    "\n",
    "series2 = pd.Series([7,0,3,897,9])\n",
    "\n",
    "# Alternative 1:  Using the .equals() method\n",
    "comparison_result = series1.equals(series2)\n",
    "\n",
    "print(comparison_result)\n",
    "\n",
    "# Alternative 2: Using equality operator '=='\n",
    "comparison_result = series1 == series2\n",
    "\n",
    "print(comparison_result)\n"
   ]
  },
  {
   "cell_type": "code",
   "execution_count": null,
   "metadata": {},
   "outputs": [],
   "source": []
  },
  {
   "cell_type": "code",
   "execution_count": null,
   "metadata": {},
   "outputs": [],
   "source": []
  },
  {
   "cell_type": "code",
   "execution_count": null,
   "metadata": {},
   "outputs": [],
   "source": []
  }
 ],
 "metadata": {
  "kernelspec": {
   "display_name": "Python 3",
   "language": "python",
   "name": "python3"
  },
  "language_info": {
   "codemirror_mode": {
    "name": "ipython",
    "version": 3
   },
   "file_extension": ".py",
   "mimetype": "text/x-python",
   "name": "python",
   "nbconvert_exporter": "python",
   "pygments_lexer": "ipython3",
   "version": "3.12.4"
  }
 },
 "nbformat": 4,
 "nbformat_minor": 2
}
