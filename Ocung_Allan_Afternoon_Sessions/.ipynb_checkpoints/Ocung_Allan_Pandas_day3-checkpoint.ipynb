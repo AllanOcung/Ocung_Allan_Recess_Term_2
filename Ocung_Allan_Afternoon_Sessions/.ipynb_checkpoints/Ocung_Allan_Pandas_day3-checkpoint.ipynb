{
 "cells": [
  {
   "cell_type": "code",
   "execution_count": null,
   "metadata": {},
   "outputs": [],
   "source": [
    "'''  Pandas - Cleaning Data '''\n",
    "\n",
    "# Data cleaning means fixing bad data in your data set.\n",
    "\n",
    "# Bad data could be:\n",
    "\n",
    "# Empty cells\n",
    "# Data in wrong format\n",
    "# Wrong data\n",
    "# Duplicates"
   ]
  },
  {
   "cell_type": "code",
   "execution_count": null,
   "metadata": {},
   "outputs": [],
   "source": [
    "import pandas as pd\n",
    "\n"
   ]
  }
 ],
 "metadata": {
  "language_info": {
   "name": "python"
  }
 },
 "nbformat": 4,
 "nbformat_minor": 2
}
