{
 "cells": [
  {
   "cell_type": "code",
   "execution_count": 1,
   "metadata": {},
   "outputs": [
    {
     "data": {
      "text/plain": [
       "'\\n\\nBusiness Analytics: Optimizing operations, improving customer experience, and driving strategic decisions.\\n\\nHealthcare: Predicting disease outbreaks, personalized medicine, and improving patient care.\\n\\nFinance: Fraud detection, risk management, and algorithmic trading.\\n\\nMarketing: Customer segmentation, sentiment analysis, and targeted advertising.\\n\\nE-commerce: Recommendation systems, inventory management, and sales forecasting.\\n\\nSocial Media: Analyzing user behavior, content recommendation, and sentiment analysis.\\n\\nGovernment and Public Policy: Policy analysis, public health, and crime prediction.\\n\\n\\n'"
      ]
     },
     "execution_count": 1,
     "metadata": {},
     "output_type": "execute_result"
    }
   ],
   "source": [
    "# # Data science with python\n",
    "\n",
    "# Data science is an interdisciplinary field that uses scientific methods, processes, algorithms, \n",
    "# and systems to extract knowledge and insights from structured and unstructured data. It encompasses \n",
    "# a range of techniques and tools from statistics, computer science, information theory, and domain-specific knowledge. \n",
    "# Here’s a more detailed breakdown of the key components and steps involved in data science:\n",
    "\n",
    "# Key Components of Data Science\n",
    "\n",
    "# Data Collection and Acquisition:\n",
    "\n",
    "'''\n",
    "Gathering data from various sources such as databases, APIs, web scraping, surveys, and more.\n",
    "Ensuring data quality and relevance to the problem at hand.\n",
    "\n",
    "'''\n",
    "\n",
    "# Data Cleaning and Preprocessing:\n",
    "\n",
    "'''\n",
    "Handling missing values, removing duplicates, and correcting errors.\n",
    "Normalizing or scaling data.\n",
    "Transforming data into a suitable format for analysis.\n",
    "\n",
    "'''\n",
    "# Exploratory Data Analysis (EDA):\n",
    "\n",
    "'''\n",
    "Summarizing main characteristics of the data using statistical measures.\n",
    "Visualizing data through plots and charts to identify patterns, trends, and anomalies.\n",
    "\n",
    "'''\n",
    "# Feature Engineering:\n",
    "\n",
    "'''\n",
    "Creating new features or modifying existing ones to improve model performance.\n",
    "Selecting the most relevant features for the analysis.\n",
    "\n",
    "'''\n",
    "# Data Modeling:\n",
    "\n",
    "'''\n",
    "Applying various algorithms to build predictive or descriptive models.\n",
    "Techniques include regression, classification, clustering, time-series analysis, and more.\n",
    "\n",
    "'''\n",
    "# Model Evaluation:\n",
    "\n",
    "'''\n",
    "Assessing the model’s performance using metrics such as accuracy, precision, recall, F1-score, ROC-AUC, etc.\n",
    "Cross-validation and validation on test datasets to ensure model generalizability.\n",
    "\n",
    "'''\n",
    "# Model Deployment:\n",
    "\n",
    "'''\n",
    "Implementing the model in a production environment where it can make real-time predictions.\n",
    "Monitoring the model’s performance over time and updating it as needed.\n",
    "\n",
    "'''\n",
    "# Communication and Visualization:\n",
    "\n",
    "'''\n",
    "\n",
    "Presenting findings and insights through dashboards, reports, and visualizations.\n",
    "Translating technical results into actionable business insights.\n",
    "Tools and Technologies in Data Science\n",
    "\n",
    "'''\n",
    "\n",
    "# Programming Languages:\n",
    "\n",
    "'''\n",
    "\n",
    "Python: Widely used for its simplicity and powerful libraries like NumPy, pandas, scikit-learn, TensorFlow, and PyTorch.\n",
    "R: Popular for statistical analysis and data visualization.\n",
    "\n",
    "'''\n",
    "# Data Manipulation and Analysis:\n",
    "\n",
    "'''\n",
    "pandas and NumPy (Python)\n",
    "dplyr and tidyverse (R)\n",
    "'''\n",
    "\n",
    "# Data Visualization:\n",
    "\n",
    "'''\n",
    "Matplotlib, Seaborn, and Plotly (Python)\n",
    "ggplot2 (R)\n",
    "\n",
    "'''\n",
    "\n",
    "# Machine Learning and Deep Learning:\n",
    "\n",
    "'''\n",
    "scikit-learn, TensorFlow, Keras, PyTorch (Python)\n",
    "caret and mlr (R)\n",
    "\n",
    "'''\n",
    "\n",
    "# Big Data Technologies:\n",
    "\n",
    "'''\n",
    "Apache Hadoop, Spark, Kafka\n",
    "'''\n",
    "\n",
    "# Database Management:\n",
    "\n",
    "'''\n",
    "SQL, NoSQL databases like MongoDB, Cassandra\n",
    "'''\n",
    "# Cloud Platforms:\n",
    "\n",
    "'''\n",
    "AWS, Google Cloud Platform (GCP), Microsoft Azure\n",
    "'''\n",
    "\n",
    "# Collaboration and Version Control:\n",
    "\n",
    "'''\n",
    "Git, GitHub, Jupyter Notebooks\n",
    "\n",
    "'''\n",
    "\n",
    "# Applications of Data Science\n",
    "\n",
    "'''\n",
    "\n",
    "Business Analytics: Optimizing operations, improving customer experience, and driving strategic decisions.\n",
    "\n",
    "Healthcare: Predicting disease outbreaks, personalized medicine, and improving patient care.\n",
    "\n",
    "Finance: Fraud detection, risk management, and algorithmic trading.\n",
    "\n",
    "Marketing: Customer segmentation, sentiment analysis, and targeted advertising.\n",
    "\n",
    "E-commerce: Recommendation systems, inventory management, and sales forecasting.\n",
    "\n",
    "Social Media: Analyzing user behavior, content recommendation, and sentiment analysis.\n",
    "\n",
    "Government and Public Policy: Policy analysis, public health, and crime prediction.\n",
    "\n",
    "\n",
    "'''\n",
    "# Conclusion\n",
    "\n",
    "# Data science is a powerful tool that can be applied across various industries to solve complex problems and \n",
    "# make data-driven decisions. Its interdisciplinary nature requires a blend of skills in statistics, programming, \n",
    "# and domain expertise, making it a dynamic and evolving field."
   ]
  },
  {
   "cell_type": "code",
   "execution_count": 2,
   "metadata": {},
   "outputs": [
    {
     "name": "stdout",
     "output_type": "stream",
     "text": [
      "Requirement already satisfied: seaborn in c:\\users\\user\\appdata\\local\\programs\\python\\python312\\lib\\site-packages (0.13.2)\n",
      "Requirement already satisfied: numpy!=1.24.0,>=1.20 in c:\\users\\user\\appdata\\local\\programs\\python\\python312\\lib\\site-packages (from seaborn) (1.26.4)\n",
      "Requirement already satisfied: pandas>=1.2 in c:\\users\\user\\appdata\\local\\programs\\python\\python312\\lib\\site-packages (from seaborn) (2.2.2)\n",
      "Requirement already satisfied: matplotlib!=3.6.1,>=3.4 in c:\\users\\user\\appdata\\local\\programs\\python\\python312\\lib\\site-packages (from seaborn) (3.9.0)\n",
      "Requirement already satisfied: contourpy>=1.0.1 in c:\\users\\user\\appdata\\local\\programs\\python\\python312\\lib\\site-packages (from matplotlib!=3.6.1,>=3.4->seaborn) (1.2.1)\n",
      "Requirement already satisfied: cycler>=0.10 in c:\\users\\user\\appdata\\local\\programs\\python\\python312\\lib\\site-packages (from matplotlib!=3.6.1,>=3.4->seaborn) (0.12.1)\n",
      "Requirement already satisfied: fonttools>=4.22.0 in c:\\users\\user\\appdata\\local\\programs\\python\\python312\\lib\\site-packages (from matplotlib!=3.6.1,>=3.4->seaborn) (4.53.0)\n",
      "Requirement already satisfied: kiwisolver>=1.3.1 in c:\\users\\user\\appdata\\local\\programs\\python\\python312\\lib\\site-packages (from matplotlib!=3.6.1,>=3.4->seaborn) (1.4.5)\n",
      "Requirement already satisfied: packaging>=20.0 in c:\\users\\user\\appdata\\local\\programs\\python\\python312\\lib\\site-packages (from matplotlib!=3.6.1,>=3.4->seaborn) (24.1)\n",
      "Requirement already satisfied: pillow>=8 in c:\\users\\user\\appdata\\local\\programs\\python\\python312\\lib\\site-packages (from matplotlib!=3.6.1,>=3.4->seaborn) (10.3.0)\n",
      "Requirement already satisfied: pyparsing>=2.3.1 in c:\\users\\user\\appdata\\local\\programs\\python\\python312\\lib\\site-packages (from matplotlib!=3.6.1,>=3.4->seaborn) (3.1.2)\n",
      "Requirement already satisfied: python-dateutil>=2.7 in c:\\users\\user\\appdata\\local\\programs\\python\\python312\\lib\\site-packages (from matplotlib!=3.6.1,>=3.4->seaborn) (2.9.0.post0)\n",
      "Requirement already satisfied: pytz>=2020.1 in c:\\users\\user\\appdata\\local\\programs\\python\\python312\\lib\\site-packages (from pandas>=1.2->seaborn) (2024.1)\n",
      "Requirement already satisfied: tzdata>=2022.7 in c:\\users\\user\\appdata\\local\\programs\\python\\python312\\lib\\site-packages (from pandas>=1.2->seaborn) (2024.1)\n",
      "Requirement already satisfied: six>=1.5 in c:\\users\\user\\appdata\\local\\programs\\python\\python312\\lib\\site-packages (from python-dateutil>=2.7->matplotlib!=3.6.1,>=3.4->seaborn) (1.16.0)\n",
      "Note: you may need to restart the kernel to use updated packages.\n"
     ]
    }
   ],
   "source": [
    "%pip install seaborn\n"
   ]
  },
  {
   "cell_type": "code",
   "execution_count": 3,
   "metadata": {},
   "outputs": [],
   "source": [
    "# Step 1: import neccessary libraries\n",
    "\n",
    "import numpy as np\n",
    "import pandas as pd\n",
    "import matplotlib as plt\n",
    "import seaborn as sns\n"
   ]
  },
  {
   "cell_type": "code",
   "execution_count": 9,
   "metadata": {},
   "outputs": [
    {
     "name": "stdout",
     "output_type": "stream",
     "text": [
      "               name sex  age  living_allowance                   course  number_of_siblings  meals_per_day has_boyfriend_girlfriend grade  attendance_rate part-time_job\n",
      "0      Alice Fenton   F   20               300         Computer Science                   1              3                      Yes     A               95            No\n",
      "1         Bob Smith   M   22               250   Mechanical Engineering                   2              2                       No     B               90           Yes\n",
      "2       Cathy Brown   F   19               400              Mathematics                   0              3                       No     A               98            No\n",
      "3         David Lee   M   21               350  Business Administration                   3              2                      Yes     B               85           Yes\n",
      "4        Emma Jones   F   18               200               Psychology                   1              3                       No     A               92            No\n",
      "5      Frank Miller   M   23               500                  Physics                   2              4                      Yes     C               80           Yes\n",
      "6         Grace Kim   F   20               275                Chemistry                   4              3                       No     B               88            No\n",
      "7       Henry Evans   M   21               225                  Biology                   1              2                      Yes     A               93           Yes\n",
      "8      Isla Roberts   F   19               300                  History                   0              3                       No     A               97            No\n",
      "9       Jack Wilson   M   22               320   Electrical Engineering                   3              3                       No     B               89           Yes\n",
      "10      Karen Young   F   20               310               Philosophy                   2              3                      Yes     A               96            No\n",
      "11       Liam Scott   M   21               280        Political Science                   1              2                       No     B               91           Yes\n",
      "12     Mia Martinez   F   18               400                  English                   0              3                      Yes     A               99            No\n",
      "13      Nathan King   M   23               230                Economics                   2              4                       No     C               83           Yes\n",
      "14    Olivia Turner   F   19               350              Art History                   1              3                      Yes     A               94            No\n",
      "15      Peter Adams   M   20               260     Computer Engineering                   3              2                       No     B               87           Yes\n",
      "16      Quincy Hall   M   22               270    Environmental Science                   1              3                      Yes     B               86           Yes\n",
      "17     Rachel Clark   F   21               240                Sociology                   2              2                       No     A               92            No\n",
      "18     Samuel Lewis   M   23               300        Civil Engineering                   4              3                       No     B               84           Yes\n",
      "19       Tina Baker   F   19               330               Journalism                   0              3                      Yes     A               97            No\n",
      "20       Umar Patel   M   20               250   Information Technology                   2              3                       No     B               88           Yes\n",
      "21    Victoria Chen   F   22               275          Medical Science                   1              2                      Yes     A               94            No\n",
      "22   William Carter   M   21               325                      Law                   3              2                       No     B               89           Yes\n",
      "23     Xena Jackson   F   19               240             Anthropology                   0              3                       No     A               95            No\n",
      "24        Yusuf Ali   M   20               350   Mechanical Engineering                   2              3                      Yes     B               87           Yes\n",
      "25       Zara Blake   F   21               310        Political Science                   1              2                       No     A               93            No\n",
      "26    Adrian Nelson   M   22               280                Economics                   3              3                       No     B               86           Yes\n",
      "27     Bella Harris   F   19               230                  Biology                   0              3                      Yes     A               97            No\n",
      "28       Chris Wong   M   20               260    Environmental Science                   2              2                       No     B               90           Yes\n",
      "29      Diana Lopez   F   23               220                  History                   1              4                       No     C               82           Yes\n",
      "30       Evan Davis   M   21               270              Mathematics                   3              3                      Yes     A               91            No\n",
      "31      Fiona Green   F   20               290               Psychology                   2              2                       No     A               96            No\n",
      "32      George King   M   22               320                  Physics                   1              3                      Yes     B               88           Yes\n",
      "33     Hannah Clark   F   19               310                Chemistry                   4              2                       No     A               95            No\n",
      "34       Ivan Moore   M   23               250         Computer Science                   2              3                       No     B               85           Yes\n",
      "35   Julia Robinson   F   21               270                  English                   1              3                      Yes     A               94            No\n",
      "36       Kevin Hill   M   20               300  Business Administration                   0              2                       No     B               87           Yes\n",
      "37      Linda Adams   F   22               280                      Law                   3              3                      Yes     A               92            No\n",
      "38    Mark Thompson   M   19               260   Electrical Engineering                   2              2                       No     B               90           Yes\n",
      "39     Nina Johnson   F   21               350               Philosophy                   1              3                      Yes     A               97            No\n",
      "40      Oscar White   M   23               240        Political Science                   3              4                       No     C               81           Yes\n",
      "41      Paula Scott   F   20               220               Journalism                   0              3                       No     A               93            No\n",
      "42      Ryan Harris   M   19               275   Information Technology                   1              2                      Yes     B               86           Yes\n",
      "43  Sophie Martinez   F   21               260                Sociology                   2              3                       No     A               95            No\n",
      "44     Travis Baker   M   22               300   Mechanical Engineering                   4              3                      Yes     B               88           Yes\n",
      "45        Una Smith   F   20               240              Art History                   1              2                       No     A               96            No\n",
      "46     Victor Brown   M   23               250                  Biology                   3              3                      Yes     C               83           Yes\n",
      "47      Wendy Lewis   F   21               310          Medical Science                   2              3                       No     A               94            No\n",
      "48     Xander Patel   M   19               320                Economics                   1              2                       No     B               87           Yes\n",
      "49       Yvonne Kim   F   20               280                Chemistry                   4              3                      Yes     A               92            No\n",
      "50     Zachary Chen   M   22               240                  Physics                   2              2                       No     B               89           Yes\n"
     ]
    }
   ],
   "source": [
    "# step 2: Load dataset\n",
    "\n",
    "df = pd.read_csv('niceguys.csv')\n",
    "\n",
    "print(df.to_string())"
   ]
  },
  {
   "cell_type": "code",
   "execution_count": 5,
   "metadata": {},
   "outputs": [
    {
     "name": "stdout",
     "output_type": "stream",
     "text": [
      "name                        0\n",
      "sex                         0\n",
      "age                         0\n",
      "living_allowance            0\n",
      "course                      0\n",
      "number_of_siblings          0\n",
      "meals_per_day               0\n",
      "has_boyfriend_girlfriend    0\n",
      "grade                       0\n",
      "attendance_rate             0\n",
      "part-time_job               0\n",
      "dtype: int64\n"
     ]
    }
   ],
   "source": [
    "# Step 3: Data cleaning and preprocessing\n",
    "\n",
    "# Check for missing values\n",
    "\n",
    "print(df.isnull().sum())"
   ]
  },
  {
   "cell_type": "code",
   "execution_count": 6,
   "metadata": {},
   "outputs": [
    {
     "name": "stderr",
     "output_type": "stream",
     "text": [
      "C:\\Users\\user\\AppData\\Local\\Temp\\ipykernel_15524\\562076187.py:3: FutureWarning: A value is trying to be set on a copy of a DataFrame or Series through chained assignment using an inplace method.\n",
      "The behavior will change in pandas 3.0. This inplace method will never work because the intermediate object on which we are setting values always behaves as a copy.\n",
      "\n",
      "For example, when doing 'df[col].method(value, inplace=True)', try using 'df.method({col: value}, inplace=True)' or df[col] = df[col].method(value) instead, to perform the operation inplace on the original object.\n",
      "\n",
      "\n",
      "  df['living_allowance'].fillna(df['living_allowance'].median(), inplace = True)\n"
     ]
    }
   ],
   "source": [
    "# Filling misssing values\n",
    "\n",
    "df['living_allowance'].fillna(df['living_allowance'].median(), inplace = True)\n",
    "\n"
   ]
  },
  {
   "cell_type": "code",
   "execution_count": 7,
   "metadata": {},
   "outputs": [],
   "source": [
    "# EDA Exploratory data analysis\n",
    "# Distribution students with age and whether they have girlfriend or boyfriend\n",
    "# Gender who have boyfriend or girlfriend\n",
    "\n",
    "# Correlation heatmaps, correlation matrix and plot the heatmaps\n",
    "# Decision making/ insights of the data, data analysis conclusions based on:\n",
    "# age and gf or bf\n",
    "# gender and gf or by\n",
    "# correlation analysis"
   ]
  },
  {
   "cell_type": "code",
   "execution_count": 8,
   "metadata": {},
   "outputs": [
    {
     "name": "stdout",
     "output_type": "stream",
     "text": [
      "3.12.4 (tags/v3.12.4:8e8a4ba, Jun  6 2024, 19:30:16) [MSC v.1940 64 bit (AMD64)]\n"
     ]
    }
   ],
   "source": [
    "import sys\n",
    "\n",
    "print(sys.version)"
   ]
  }
 ],
 "metadata": {
  "kernelspec": {
   "display_name": "Python 3 (ipykernel)",
   "language": "python",
   "name": "python3"
  },
  "language_info": {
   "codemirror_mode": {
    "name": "ipython",
    "version": 3
   },
   "file_extension": ".py",
   "mimetype": "text/x-python",
   "name": "python",
   "nbconvert_exporter": "python",
   "pygments_lexer": "ipython3",
   "version": "3.12.4"
  }
 },
 "nbformat": 4,
 "nbformat_minor": 4
}
