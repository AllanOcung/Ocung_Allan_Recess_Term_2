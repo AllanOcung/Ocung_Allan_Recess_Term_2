{
 "cells": [
  {
   "cell_type": "code",
   "execution_count": 4,
   "metadata": {},
   "outputs": [
    {
     "name": "stdout",
     "output_type": "stream",
     "text": [
      "N              0\n",
      "P              0\n",
      "K              0\n",
      "temperature    0\n",
      "humidity       0\n",
      "ph             0\n",
      "rainfall       0\n",
      "label          0\n",
      "dtype: int64\n"
     ]
    }
   ],
   "source": [
    "import pandas as pd\n",
    "\n",
    "d = pd.read_csv('crop.csv')\n",
    "\n",
    "print(d.isnull().sum())\n"
   ]
  },
  {
   "cell_type": "code",
   "execution_count": 5,
   "metadata": {},
   "outputs": [
    {
     "name": "stdout",
     "output_type": "stream",
     "text": [
      "N                int64\n",
      "P                int64\n",
      "K                int64\n",
      "temperature    float64\n",
      "humidity       float64\n",
      "ph             float64\n",
      "rainfall       float64\n",
      "label           object\n",
      "dtype: object\n"
     ]
    }
   ],
   "source": [
    "print(d.dtypes)"
   ]
  },
  {
   "cell_type": "code",
   "execution_count": 6,
   "metadata": {},
   "outputs": [
    {
     "name": "stdout",
     "output_type": "stream",
     "text": [
      "                 N            P            K  temperature     humidity  \\\n",
      "count  2200.000000  2200.000000  2200.000000  2200.000000  2200.000000   \n",
      "mean     50.551818    53.362727    48.149091    25.616244    71.481779   \n",
      "std      36.917334    32.985883    50.647931     5.063749    22.263812   \n",
      "min       0.000000     5.000000     5.000000     8.825675    14.258040   \n",
      "25%      21.000000    28.000000    20.000000    22.769375    60.261953   \n",
      "50%      37.000000    51.000000    32.000000    25.598693    80.473146   \n",
      "75%      84.250000    68.000000    49.000000    28.561654    89.948771   \n",
      "max     140.000000   145.000000   205.000000    43.675493    99.981876   \n",
      "\n",
      "                ph     rainfall  \n",
      "count  2200.000000  2200.000000  \n",
      "mean      6.469480   103.463655  \n",
      "std       0.773938    54.958389  \n",
      "min       3.504752    20.211267  \n",
      "25%       5.971693    64.551686  \n",
      "50%       6.425045    94.867624  \n",
      "75%       6.923643   124.267508  \n",
      "max       9.935091   298.560117  \n"
     ]
    }
   ],
   "source": [
    "print(d.describe())"
   ]
  },
  {
   "cell_type": "code",
   "execution_count": 13,
   "metadata": {},
   "outputs": [
    {
     "data": {
      "image/png": "[encoded data removed]",
      "text/plain": [
       "<Figure size 640x480 with 2 Axes>"
      ]
     },
     "metadata": {},
     "output_type": "display_data"
    }
   ],
   "source": [
    "# Data Preprocessing for ML model:\n",
    "\n",
    "import seaborn as sns\n",
    "import matplotlib.pyplot as plt\n",
    "# Correllations\n",
    "\n",
    "# print(d.to_string())\n",
    "# d.corr()\n",
    "\n",
    "c = d.label.astype('category')\n",
    "\n",
    "targets = dict(enumerate(c.cat.categories))\n",
    "\n",
    "d['target'] = c.cat.codes\n",
    "\n",
    "y = d.target\n",
    "x = d[['N', 'P', 'K', 'temperature', 'humidity', 'ph', 'rainfall']]\n",
    "\n",
    "sns.heatmap(x.corr())\n",
    "plt.show()"
   ]
  },
  {
   "cell_type": "code",
   "execution_count": 15,
   "metadata": {},
   "outputs": [
    {
     "name": "stdout",
     "output_type": "stream",
     "text": [
      "Collecting scikit-learn\n",
      "  Downloading scikit_learn-1.5.0-cp312-cp312-win_amd64.whl.metadata (11 kB)\n",
      "Requirement already satisfied: numpy>=1.19.5 in c:\\users\\user\\appdata\\local\\programs\\python\\python312\\lib\\site-packages (from scikit-learn) (1.26.4)\n",
      "Collecting scipy>=1.6.0 (from scikit-learn)\n",
      "  Downloading scipy-1.14.0-cp312-cp312-win_amd64.whl.metadata (60 kB)\n",
      "     ---------------------------------------- 0.0/60.8 kB ? eta -:--:--\n",
      "     ------------------------- ------------ 41.0/60.8 kB 991.0 kB/s eta 0:00:01\n",
      "     --------------------------------- ------ 51.2/60.8 kB 1.3 MB/s eta 0:00:01\n",
      "     -------------------------------------- 60.8/60.8 kB 463.5 kB/s eta 0:00:00\n",
      "Collecting joblib>=1.2.0 (from scikit-learn)\n",
      "  Downloading joblib-1.4.2-py3-none-any.whl.metadata (5.4 kB)\n",
      "Collecting threadpoolctl>=3.1.0 (from scikit-learn)\n",
      "  Downloading threadpoolctl-3.5.0-py3-none-any.whl.metadata (13 kB)\n",
      "Downloading scikit_learn-1.5.0-cp312-cp312-win_amd64.whl (10.9 MB)\n",
      "   ---------------------------------------- 0.0/10.9 MB ? eta -:--:--\n",
      "   ---------------------------------------- 0.1/10.9 MB 5.5 MB/s eta 0:00:02\n",
      "    --------------------------------------- 0.2/10.9 MB 2.3 MB/s eta 0:00:05\n",
      "   - -------------------------------------- 0.4/10.9 MB 2.6 MB/s eta 0:00:05\n",
      "   -- ------------------------------------- 0.6/10.9 MB 2.9 MB/s eta 0:00:04\n",
      "   ---- ----------------------------------- 1.1/10.9 MB 4.5 MB/s eta 0:00:03\n",
      "   ------- -------------------------------- 1.9/10.9 MB 6.4 MB/s eta 0:00:02\n",
      "   ---------- ----------------------------- 2.8/10.9 MB 8.0 MB/s eta 0:00:02\n",
      "   ------------- -------------------------- 3.6/10.9 MB 9.2 MB/s eta 0:00:01\n",
      "   ---------------- ----------------------- 4.6/10.9 MB 10.5 MB/s eta 0:00:01\n",
      "   -------------------- ------------------- 5.5/10.9 MB 11.3 MB/s eta 0:00:01\n",
      "   -------------------- ------------------- 5.5/10.9 MB 11.0 MB/s eta 0:00:01\n",
      "   ----------------------- ---------------- 6.3/10.9 MB 10.9 MB/s eta 0:00:01\n",
      "   -------------------------- ------------- 7.3/10.9 MB 11.7 MB/s eta 0:00:01\n",
      "   ------------------------------ --------- 8.4/10.9 MB 12.5 MB/s eta 0:00:01\n",
      "   ---------------------------------- ----- 9.5/10.9 MB 13.1 MB/s eta 0:00:01\n",
      "   ---------------------------------------  10.9/10.9 MB 17.7 MB/s eta 0:00:01\n",
      "   ---------------------------------------  10.9/10.9 MB 17.7 MB/s eta 0:00:01\n",
      "   ---------------------------------------  10.9/10.9 MB 17.7 MB/s eta 0:00:01\n",
      "   ---------------------------------------  10.9/10.9 MB 17.7 MB/s eta 0:00:01\n",
      "   ---------------------------------------  10.9/10.9 MB 17.7 MB/s eta 0:00:01\n",
      "   ---------------------------------------  10.9/10.9 MB 17.7 MB/s eta 0:00:01\n",
      "   ---------------------------------------- 10.9/10.9 MB 11.9 MB/s eta 0:00:00\n",
      "Downloading joblib-1.4.2-py3-none-any.whl (301 kB)\n",
      "   ---------------------------------------- 0.0/301.8 kB ? eta -:--:--\n",
      "   ---------------------- ---------------- 174.1/301.8 kB 10.9 MB/s eta 0:00:01\n",
      "   ---------------------------------------  297.0/301.8 kB 3.7 MB/s eta 0:00:01\n",
      "   ---------------------------------------  297.0/301.8 kB 3.7 MB/s eta 0:00:01\n",
      "   ---------------------------------------- 301.8/301.8 kB 2.1 MB/s eta 0:00:00\n",
      "Downloading scipy-1.14.0-cp312-cp312-win_amd64.whl (44.5 MB)\n",
      "   ---------------------------------------- 0.0/44.5 MB ? eta -:--:--\n",
      "   - -------------------------------------- 1.7/44.5 MB 51.5 MB/s eta 0:00:01\n",
      "   -- ------------------------------------- 2.9/44.5 MB 30.9 MB/s eta 0:00:02\n",
      "   -- ------------------------------------- 2.9/44.5 MB 30.9 MB/s eta 0:00:02\n",
      "   -- ------------------------------------- 2.9/44.5 MB 30.9 MB/s eta 0:00:02\n",
      "   ----- ---------------------------------- 5.7/44.5 MB 24.1 MB/s eta 0:00:02\n",
      "   ------ --------------------------------- 6.8/44.5 MB 24.0 MB/s eta 0:00:02\n",
      "   ------- -------------------------------- 7.9/44.5 MB 24.1 MB/s eta 0:00:02\n",
      "   ------- -------------------------------- 8.7/44.5 MB 23.1 MB/s eta 0:00:02\n",
      "   -------- ------------------------------- 9.6/44.5 MB 23.7 MB/s eta 0:00:02\n",
      "   --------- ------------------------------ 10.6/44.5 MB 22.6 MB/s eta 0:00:02\n",
      "   ---------- ----------------------------- 11.7/44.5 MB 21.1 MB/s eta 0:00:02\n",
      "   ----------- ---------------------------- 12.7/44.5 MB 21.8 MB/s eta 0:00:02\n",
      "   ------------ --------------------------- 13.8/44.5 MB 25.1 MB/s eta 0:00:02\n",
      "   ------------- -------------------------- 14.7/44.5 MB 23.4 MB/s eta 0:00:02\n",
      "   -------------- ------------------------- 15.7/44.5 MB 21.8 MB/s eta 0:00:02\n",
      "   --------------- ------------------------ 16.7/44.5 MB 21.8 MB/s eta 0:00:02\n",
      "   --------------- ------------------------ 17.8/44.5 MB 21.1 MB/s eta 0:00:02\n",
      "   ---------------- ----------------------- 18.6/44.5 MB 21.1 MB/s eta 0:00:02\n",
      "   ----------------- ---------------------- 19.7/44.5 MB 21.9 MB/s eta 0:00:02\n",
      "   ------------------ --------------------- 20.7/44.5 MB 21.8 MB/s eta 0:00:02\n",
      "   ------------------- -------------------- 21.9/44.5 MB 21.1 MB/s eta 0:00:02\n",
      "   -------------------- ------------------- 23.2/44.5 MB 22.6 MB/s eta 0:00:01\n",
      "   --------------------- ------------------ 24.4/44.5 MB 23.4 MB/s eta 0:00:01\n",
      "   ----------------------- ---------------- 25.7/44.5 MB 24.2 MB/s eta 0:00:01\n",
      "   ------------------------ --------------- 27.0/44.5 MB 24.2 MB/s eta 0:00:01\n",
      "   ------------------------- -------------- 28.2/44.5 MB 25.2 MB/s eta 0:00:01\n",
      "   -------------------------- ------------- 29.5/44.5 MB 26.2 MB/s eta 0:00:01\n",
      "   --------------------------- ------------ 30.8/44.5 MB 27.3 MB/s eta 0:00:01\n",
      "   ---------------------------- ----------- 32.1/44.5 MB 28.5 MB/s eta 0:00:01\n",
      "   ----------------------------- ---------- 33.3/44.5 MB 27.3 MB/s eta 0:00:01\n",
      "   ------------------------------- -------- 34.5/44.5 MB 27.3 MB/s eta 0:00:01\n",
      "   -------------------------------- ------- 35.8/44.5 MB 27.3 MB/s eta 0:00:01\n",
      "   --------------------------------- ------ 37.0/44.5 MB 27.3 MB/s eta 0:00:01\n",
      "   ---------------------------------- ----- 38.3/44.5 MB 27.3 MB/s eta 0:00:01\n",
      "   ----------------------------------- ---- 39.6/44.5 MB 27.3 MB/s eta 0:00:01\n",
      "   ------------------------------------ --- 40.8/44.5 MB 27.3 MB/s eta 0:00:01\n",
      "   ------------------------------------- -- 42.1/44.5 MB 27.3 MB/s eta 0:00:01\n",
      "   -------------------------------------- - 43.3/44.5 MB 27.3 MB/s eta 0:00:01\n",
      "   ---------------------------------------  44.4/44.5 MB 26.2 MB/s eta 0:00:01\n",
      "   ---------------------------------------  44.5/44.5 MB 26.2 MB/s eta 0:00:01\n",
      "   ---------------------------------------  44.5/44.5 MB 26.2 MB/s eta 0:00:01\n",
      "   ---------------------------------------  44.5/44.5 MB 26.2 MB/s eta 0:00:01\n",
      "   ---------------------------------------  44.5/44.5 MB 26.2 MB/s eta 0:00:01\n",
      "   ---------------------------------------  44.5/44.5 MB 26.2 MB/s eta 0:00:01\n",
      "   ---------------------------------------  44.5/44.5 MB 26.2 MB/s eta 0:00:01\n",
      "   ---------------------------------------  44.5/44.5 MB 26.2 MB/s eta 0:00:01\n",
      "   ---------------------------------------  44.5/44.5 MB 26.2 MB/s eta 0:00:01\n",
      "   ---------------------------------------  44.5/44.5 MB 26.2 MB/s eta 0:00:01\n",
      "   ---------------------------------------  44.5/44.5 MB 26.2 MB/s eta 0:00:01\n",
      "   ---------------------------------------  44.5/44.5 MB 26.2 MB/s eta 0:00:01\n",
      "   ---------------------------------------  44.5/44.5 MB 26.2 MB/s eta 0:00:01\n",
      "   ---------------------------------------  44.5/44.5 MB 26.2 MB/s eta 0:00:01\n",
      "   ---------------------------------------  44.5/44.5 MB 26.2 MB/s eta 0:00:01\n",
      "   ---------------------------------------  44.5/44.5 MB 26.2 MB/s eta 0:00:01\n",
      "   ---------------------------------------  44.5/44.5 MB 26.2 MB/s eta 0:00:01\n",
      "   ---------------------------------------  44.5/44.5 MB 26.2 MB/s eta 0:00:01\n",
      "   ---------------------------------------  44.5/44.5 MB 26.2 MB/s eta 0:00:01\n",
      "   ---------------------------------------  44.5/44.5 MB 26.2 MB/s eta 0:00:01\n",
      "   ---------------------------------------  44.5/44.5 MB 26.2 MB/s eta 0:00:01\n",
      "   ---------------------------------------  44.5/44.5 MB 26.2 MB/s eta 0:00:01\n",
      "   ---------------------------------------  44.5/44.5 MB 26.2 MB/s eta 0:00:01\n",
      "   ---------------------------------------  44.5/44.5 MB 26.2 MB/s eta 0:00:01\n",
      "   ---------------------------------------  44.5/44.5 MB 26.2 MB/s eta 0:00:01\n",
      "   ---------------------------------------  44.5/44.5 MB 26.2 MB/s eta 0:00:01\n",
      "   ---------------------------------------- 44.5/44.5 MB 6.3 MB/s eta 0:00:00\n",
      "Downloading threadpoolctl-3.5.0-py3-none-any.whl (18 kB)\n",
      "Installing collected packages: threadpoolctl, scipy, joblib, scikit-learn\n",
      "Successfully installed joblib-1.4.2 scikit-learn-1.5.0 scipy-1.14.0 threadpoolctl-3.5.0\n",
      "Note: you may need to restart the kernel to use updated packages.\n"
     ]
    }
   ],
   "source": [
    "%pip install scikit-learn"
   ]
  },
  {
   "cell_type": "code",
   "execution_count": 1,
   "metadata": {},
   "outputs": [],
   "source": [
    "# ML models. set train and test Data     #libreOffice community\n",
    "from sklearn.model_selection import train_test_split\n",
    "from sklearn.preprocessing import MinMaxScaler\n",
    "\n",
    "x_train, x_test, y_train, y_test = train_test_split(x, y,test_size=0.2, random_state=1)\n",
    "\n",
    "scaler = MinMaxScaler()\n",
    "x_train_scaled = scaler.fit_transform(x_train)\n",
    "\n",
    "x_test_scaled = scaler.transform(x_test)\n"
   ]
  },
  {
   "cell_type": "code",
   "execution_count": null,
   "metadata": {},
   "outputs": [],
   "source": [
    "# classification using: Kneighbors, confusion matrix, svc, decision tree, random forest\n"
   ]
  },
  {
   "cell_type": "code",
   "execution_count": null,
   "metadata": {},
   "outputs": [],
   "source": [
    "# Machine learning\n",
    "\n",
    "# split data into three categories\n",
    "# Numerical, categorical, and ordinal\n"
   ]
  },
  {
   "cell_type": "code",
   "execution_count": null,
   "metadata": {},
   "outputs": [],
   "source": [
    "# Numerical Data"
   ]
  },
  {
   "cell_type": "code",
   "execution_count": null,
   "metadata": {},
   "outputs": [],
   "source": [
    "# regression \n"
   ]
  }
 ],
 "metadata": {
  "kernelspec": {
   "display_name": "Python 3",
   "language": "python",
   "name": "python3"
  },
  "language_info": {
   "codemirror_mode": {
    "name": "ipython",
    "version": 3
   },
   "file_extension": ".py",
   "mimetype": "text/x-python",
   "name": "python",
   "nbconvert_exporter": "python",
   "pygments_lexer": "ipython3",
   "version": "3.12.4"
  }
 },
 "nbformat": 4,
 "nbformat_minor": 2
}
